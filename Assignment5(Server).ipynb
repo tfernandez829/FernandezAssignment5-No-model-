{
 "cells": [
  {
   "cell_type": "code",
   "execution_count": 6,
   "id": "e5f09211",
   "metadata": {},
   "outputs": [
    {
     "name": "stdout",
     "output_type": "stream",
     "text": [
      "[*] Started listening on  192.168.1.64 : 1234\n",
      "[*] Got a connection from  192.168.1.64  : 57213\n",
      "[*] Received command:  client rockImg.png  from the client.\n",
      "\n",
      " Processing data.\n",
      "\n"
     ]
    }
   ],
   "source": [
    "import socket\n",
    "import tensorflow as tf\n",
    "import matplotlib.pyplot as plt\n",
    "import numpy as np\n",
    "import os\n",
    "from tensorflow import keras\n",
    "from tensorflow.keras.preprocessing.image import ImageDataGenerator\n",
    "from tensorflow.keras.preprocessing import image\n",
    "\n",
    "#load the trained model\n",
    "model = tf.keras.models.load_model(\"model.h5\")\n",
    "\n",
    "server = socket.socket(socket.AF_INET,socket.SOCK_STREAM)\n",
    "\n",
    "ipNum = socket.gethostbyname(socket.gethostname())\n",
    "portNum = 1234\n",
    "address = (ipNum, portNum)\n",
    "server.bind(address)\n",
    "server.listen(1)\n",
    "\n",
    "#Classification function that will determine what type of picture is inputted\n",
    "def classifyImage(result):\n",
    "     if result[0][0] == 1: #if the result is Paper\n",
    "        return \"paper!\"\n",
    "     elif result[0][1] == 1: #if the result is Rock\n",
    "        return \"rock!\"\n",
    "     elif result[0][2] == 1: #if the result is Scissors\n",
    "        return \"scissors!\"\n",
    "     else:\n",
    "        return \"Not a valid input.\"\n",
    "\n",
    "#Using the model to predict the results of the image\n",
    "def predictImage(imageName):\n",
    "    img = image.load_img(imageName, target_size=(150, 150))\n",
    "    x = image.img_to_array(img)\n",
    "    x = np.expand_dims(x, axis=0)\n",
    "    \n",
    "    images = np.vstack([x])\n",
    "    rpsClass = model.predict(images, batch_size=10)\n",
    "    return rpsClass\n",
    "\n",
    "print (\"[*] Started listening on \", ipNum, \":\", portNum)\n",
    "client, addr = server.accept()\n",
    "print (\"[*] Got a connection from \", addr[0],\" :\", addr[1])\n",
    "\n",
    "#Receiving information from the client\n",
    "while True:\n",
    "    data = client.recv(1024).decode()\n",
    "    print (\"[*] Received command: \", data, \" from the client.\\n\")\n",
    "    print (\" Processing data.\\n\")\n",
    "    \n",
    "    if(data==\"client\"): #if user enters the /client command\n",
    "        client.send((\"Assignment 5: Image Classification - Rock, Paper, Scissors\" + \"\\n\" + \"Taylor Fernandez\" + \"\\n\" + \"May 3, 2021\").encode())\n",
    "        print (\" Processing done. \\n [*] Reply sent\")\n",
    "    \n",
    "    elif(data== \"client rockImg.png\"): #if user enters the /client command with the image parameters\n",
    "        #call the functions to get the image classification results from the file\n",
    "        classificationResult = predictImage('rockImg.png')\n",
    "        prediction = classifyImage(classificationResult).encode()\n",
    "        client.send((\"Assignment 5: Image Classification - Rock, Paper, Scissors\" + \"\\n\" + \"Taylor Fernandez\" + \"\\n\" + \"May 3, 2021\"+ \"\\n\" + \"Your image is: \").encode() + prediction)\n",
    "        break\n",
    "        \n",
    "    elif(data== \"client paperImg.png\"): #if user enters the /client command with the image parameters\n",
    "        #call the functions to get the image classification results from the file\n",
    "        classificationResult = predictImage('paperImg.png')\n",
    "        prediction = classifyImage(classificationResult).encode()\n",
    "        client.send((\"Assignment 5: Image Classification - Rock, Paper, Scissors\" + \"\\n\" + \"Taylor Fernandez\" + \"\\n\" + \"May 3, 2021\"+ \"\\n\" + \"Your image is: \").encode() + prediction)\n",
    "        break\n",
    "        \n",
    "    elif(data== \"client scissorsImg.png\"): #if user enters the /client command with the image parameters\n",
    "        #call the functions to get the image classification results from the file\n",
    "        classificationResult = predictImage('scissorsImg.png')\n",
    "        prediction = classifyImage(classificationResult).encode()\n",
    "        client.send((\"Assignment 5: Image Classification - Rock, Paper, Scissors\" + \"\\n\" + \"Taylor Fernandez\" + \"\\n\" + \"May 3, 2021\"+ \"\\n\" + \"Your image is: \").encode() + prediction)\n",
    "        break\n",
    "    \n",
    "    else: \n",
    "        client.send(\"Not a valid command.\").encode()\n",
    "        print(\" Processing ended: Invalid input. \\n\")\n",
    "client.close()"
   ]
  },
  {
   "cell_type": "code",
   "execution_count": null,
   "id": "db44de8e",
   "metadata": {},
   "outputs": [],
   "source": []
  },
  {
   "cell_type": "code",
   "execution_count": null,
   "id": "b38e8c8b",
   "metadata": {},
   "outputs": [],
   "source": []
  },
  {
   "cell_type": "code",
   "execution_count": null,
   "id": "e85af235",
   "metadata": {},
   "outputs": [],
   "source": []
  },
  {
   "cell_type": "code",
   "execution_count": null,
   "id": "dc38f051",
   "metadata": {},
   "outputs": [],
   "source": []
  }
 ],
 "metadata": {
  "kernelspec": {
   "display_name": "Python 3",
   "language": "python",
   "name": "python3"
  },
  "language_info": {
   "codemirror_mode": {
    "name": "ipython",
    "version": 3
   },
   "file_extension": ".py",
   "mimetype": "text/x-python",
   "name": "python",
   "nbconvert_exporter": "python",
   "pygments_lexer": "ipython3",
   "version": "3.9.4"
  }
 },
 "nbformat": 4,
 "nbformat_minor": 5
}
